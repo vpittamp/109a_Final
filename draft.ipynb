{
 "cells": [
  {
   "cell_type": "code",
   "execution_count": 1,
   "metadata": {},
   "outputs": [],
   "source": [
    "import pandas as pd\n",
    "import numpy as np\n",
    "import matplotlib.pyplot as plt\n",
    "\n",
    "# read in EVolume_v04_Shared.xlsx\n",
    "MR = pd.read_excel('EVolume_v04_Shared.xlsx', sheet_name='Y6-MR')\n",
    "CT = pd.read_excel('EVolume_v04_Shared.xlsx', sheet_name='Y6-CT')"
   ]
  },
  {
   "cell_type": "code",
   "execution_count": 2,
   "metadata": {},
   "outputs": [],
   "source": [
    "# assume the column nDay begins in March 2020 and create a column with the date\n",
    "MR['Date'] = pd.to_datetime('2020-03-01') + pd.to_timedelta(MR['nDay'], unit='d')\n",
    "CT['Date'] = pd.to_datetime('2020-03-01') + pd.to_timedelta(CT['nDay'], unit='d')\n",
    "\n"
   ]
  },
  {
   "cell_type": "code",
   "execution_count": null,
   "metadata": {},
   "outputs": [],
   "source": [
    "plot "
   ]
  }
 ],
 "metadata": {
  "kernelspec": {
   "display_name": "Python 3.11.0 ('cs109a_finalproj')",
   "language": "python",
   "name": "python3"
  },
  "language_info": {
   "codemirror_mode": {
    "name": "ipython",
    "version": 3
   },
   "file_extension": ".py",
   "mimetype": "text/x-python",
   "name": "python",
   "nbconvert_exporter": "python",
   "pygments_lexer": "ipython3",
   "version": "3.11.0"
  },
  "orig_nbformat": 4,
  "vscode": {
   "interpreter": {
    "hash": "31a55d9ebe46a8e5493501d129b9c99fc33e91cb8594a70fee0536f8269e5c51"
   }
  }
 },
 "nbformat": 4,
 "nbformat_minor": 2
}
